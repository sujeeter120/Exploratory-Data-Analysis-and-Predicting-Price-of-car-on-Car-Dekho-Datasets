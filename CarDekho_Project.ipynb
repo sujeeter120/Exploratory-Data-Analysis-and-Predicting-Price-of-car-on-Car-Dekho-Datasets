{
 "cells": [
  {
   "cell_type": "markdown",
   "metadata": {
    "colab_type": "text",
    "id": "oVE1S9jezv5o"
   },
   "source": [
    "**About CarDekho**\n",
    "\n",
    "CarDekho.com is India's leading car search venture that helps users buy cars that are right for them. Its website and app carry rich automotive content such as expert reviews, detailed specs and prices, comparisons as well as videos and pictures of all car brands and models available in India. The company has tie-ups with many auto manufacturers, more than 4000 car dealers and numerous financial institutions to facilitate the purchase of vehicles."
   ]
  },
  {
   "cell_type": "markdown",
   "metadata": {
    "colab_type": "text",
    "id": "fb2Szz4iJyju"
   },
   "source": [
    "**Objective:**\n",
    "\n",
    "Every passing day we can see that the car market is increasing rapidly and that brings us to a door where many people are buying and selling the cars in the market, so to make this process more fluid and with a better market view, I am proposing a model which will take particular information related to the car and will predict the selling price. This will help to get a better view while buying and selling cars.\n"
   ]
  },
  {
   "cell_type": "markdown",
   "metadata": {
    "colab_type": "text",
    "id": "XufShBqAJ4Vx"
   },
   "source": [
    "**Predicting Description:**\n",
    "\n",
    "I am predicting the selling price of the car based on various features of the cars including the present price of the cars, i will be using Multiple Linear Regression for building The model.\n"
   ]
  },
  {
   "cell_type": "markdown",
   "metadata": {
    "colab_type": "text",
    "id": "ue5oRZldJ9ZG"
   },
   "source": [
    "**Data Description:**\n",
    "\n",
    "The dataset is from Cardekho.com, this dataset contains information about cars listed on the website cardekho.com.\n"
   ]
  },
  {
   "cell_type": "markdown",
   "metadata": {
    "colab_type": "text",
    "id": "J3b69t-qKFdr"
   },
   "source": [
    "**Attribute Information:**\n",
    "\n",
    "The datasets consist of several independent variables include:\n",
    "\n",
    "Car_Name : This column represents the name of the car.\n",
    "\n",
    "Year : This column represents the year in which the car was bought.\n",
    "\n",
    "Selling_Price : This column represents the price the owner wants to sell the car at.\n",
    "\n",
    "Present_Price : This is the present price of the car.\n",
    "\n",
    "Kms_Driven : This is the distance completed by the car in km.\n",
    "\n",
    "Fuel_Type : Fuel type of car i.e Diesel,Petrol,CNG\n",
    "\n",
    "Seller_Type : Defines whether the seller is a dealer or an individual.\n",
    "\n",
    "Transmission : Defines whether the car is manual or automatic.\n",
    "\n",
    "Owner : Defines the number of owners the car has previously had.\n"
   ]
  },
  {
   "cell_type": "code",
   "execution_count": 1,
   "metadata": {
    "colab": {
     "base_uri": "https://localhost:8080/",
     "height": 71
    },
    "colab_type": "code",
    "id": "F9FS5lzXzICE",
    "outputId": "08a924fe-0214-4b03-cd9f-dfa451ca457e"
   },
   "outputs": [],
   "source": [
    "import pandas as pd\n",
    "import numpy as np \n",
    "import seaborn as sns\n",
    "import matplotlib.pyplot as plt\n",
    "\n",
    "%matplotlib inline\n",
    "\n",
    "import warnings\n",
    "warnings.filterwarnings(\"ignore\")\n",
    "\n"
   ]
  },
  {
   "cell_type": "code",
   "execution_count": 3,
   "metadata": {
    "colab": {},
    "colab_type": "code",
    "id": "8L6Ui78E6cTi"
   },
   "outputs": [],
   "source": [
    "CarDekho_Data=pd.read_csv(\"Car_Data.csv\")"
   ]
  },
  {
   "cell_type": "code",
   "execution_count": 4,
   "metadata": {
    "colab": {
     "base_uri": "https://localhost:8080/",
     "height": 204
    },
    "colab_type": "code",
    "id": "AOMkZDBW7m8Z",
    "outputId": "6d2a4eb8-3034-4dee-e3a1-9f196ea0a2ec"
   },
   "outputs": [
    {
     "data": {
      "text/html": [
       "<div>\n",
       "<style scoped>\n",
       "    .dataframe tbody tr th:only-of-type {\n",
       "        vertical-align: middle;\n",
       "    }\n",
       "\n",
       "    .dataframe tbody tr th {\n",
       "        vertical-align: top;\n",
       "    }\n",
       "\n",
       "    .dataframe thead th {\n",
       "        text-align: right;\n",
       "    }\n",
       "</style>\n",
       "<table border=\"1\" class=\"dataframe\">\n",
       "  <thead>\n",
       "    <tr style=\"text-align: right;\">\n",
       "      <th></th>\n",
       "      <th>Car_Name</th>\n",
       "      <th>Year</th>\n",
       "      <th>Selling_Price</th>\n",
       "      <th>Present_Price</th>\n",
       "      <th>Kms_Driven</th>\n",
       "      <th>Fuel_Type</th>\n",
       "      <th>Seller_Type</th>\n",
       "      <th>Transmission</th>\n",
       "      <th>Owner</th>\n",
       "    </tr>\n",
       "  </thead>\n",
       "  <tbody>\n",
       "    <tr>\n",
       "      <th>0</th>\n",
       "      <td>ritz</td>\n",
       "      <td>2014</td>\n",
       "      <td>3.35</td>\n",
       "      <td>5.59</td>\n",
       "      <td>27000</td>\n",
       "      <td>Petrol</td>\n",
       "      <td>Dealer</td>\n",
       "      <td>Manual</td>\n",
       "      <td>0</td>\n",
       "    </tr>\n",
       "    <tr>\n",
       "      <th>1</th>\n",
       "      <td>sx4</td>\n",
       "      <td>2013</td>\n",
       "      <td>4.75</td>\n",
       "      <td>9.54</td>\n",
       "      <td>43000</td>\n",
       "      <td>Diesel</td>\n",
       "      <td>Dealer</td>\n",
       "      <td>Manual</td>\n",
       "      <td>0</td>\n",
       "    </tr>\n",
       "    <tr>\n",
       "      <th>2</th>\n",
       "      <td>ciaz</td>\n",
       "      <td>2017</td>\n",
       "      <td>7.25</td>\n",
       "      <td>9.85</td>\n",
       "      <td>6900</td>\n",
       "      <td>Petrol</td>\n",
       "      <td>Dealer</td>\n",
       "      <td>Manual</td>\n",
       "      <td>0</td>\n",
       "    </tr>\n",
       "    <tr>\n",
       "      <th>3</th>\n",
       "      <td>wagon r</td>\n",
       "      <td>2011</td>\n",
       "      <td>2.85</td>\n",
       "      <td>4.15</td>\n",
       "      <td>5200</td>\n",
       "      <td>Petrol</td>\n",
       "      <td>Dealer</td>\n",
       "      <td>Manual</td>\n",
       "      <td>0</td>\n",
       "    </tr>\n",
       "    <tr>\n",
       "      <th>4</th>\n",
       "      <td>swift</td>\n",
       "      <td>2014</td>\n",
       "      <td>4.60</td>\n",
       "      <td>6.87</td>\n",
       "      <td>42450</td>\n",
       "      <td>Diesel</td>\n",
       "      <td>Dealer</td>\n",
       "      <td>Manual</td>\n",
       "      <td>0</td>\n",
       "    </tr>\n",
       "  </tbody>\n",
       "</table>\n",
       "</div>"
      ],
      "text/plain": [
       "  Car_Name  Year  Selling_Price  Present_Price  Kms_Driven Fuel_Type  \\\n",
       "0     ritz  2014           3.35           5.59       27000    Petrol   \n",
       "1      sx4  2013           4.75           9.54       43000    Diesel   \n",
       "2     ciaz  2017           7.25           9.85        6900    Petrol   \n",
       "3  wagon r  2011           2.85           4.15        5200    Petrol   \n",
       "4    swift  2014           4.60           6.87       42450    Diesel   \n",
       "\n",
       "  Seller_Type Transmission  Owner  \n",
       "0      Dealer       Manual      0  \n",
       "1      Dealer       Manual      0  \n",
       "2      Dealer       Manual      0  \n",
       "3      Dealer       Manual      0  \n",
       "4      Dealer       Manual      0  "
      ]
     },
     "execution_count": 4,
     "metadata": {},
     "output_type": "execute_result"
    }
   ],
   "source": [
    "CarDekho_Data.head()"
   ]
  },
  {
   "cell_type": "markdown",
   "metadata": {
    "colab_type": "text",
    "id": "AjpMqwrh8FZ1"
   },
   "source": [
    "**Exploratory Data Analysis**"
   ]
  },
  {
   "cell_type": "markdown",
   "metadata": {
    "colab_type": "text",
    "id": "rhYiZtRiWb7c"
   },
   "source": [
    "And lets drop the Car_name as it does not provide much insights."
   ]
  },
  {
   "cell_type": "code",
   "execution_count": 5,
   "metadata": {
    "colab": {},
    "colab_type": "code",
    "id": "Rhy9j3BtWkpI"
   },
   "outputs": [],
   "source": [
    "CarDekho_Data.drop(\"Car_Name\",axis=1,inplace=True)"
   ]
  },
  {
   "cell_type": "markdown",
   "metadata": {
    "colab_type": "text",
    "id": "eHfholOVFAgW"
   },
   "source": [
    "now lets check how many null values are present in our data."
   ]
  },
  {
   "cell_type": "code",
   "execution_count": 6,
   "metadata": {
    "colab": {
     "base_uri": "https://localhost:8080/",
     "height": 170
    },
    "colab_type": "code",
    "id": "zVHgXETIE5aG",
    "outputId": "c4e8afb2-4e69-43f9-b7f2-3fe9ce378fae"
   },
   "outputs": [
    {
     "data": {
      "text/plain": [
       "Year             0\n",
       "Selling_Price    0\n",
       "Present_Price    0\n",
       "Kms_Driven       0\n",
       "Fuel_Type        0\n",
       "Seller_Type      0\n",
       "Transmission     0\n",
       "Owner            0\n",
       "dtype: int64"
      ]
     },
     "execution_count": 6,
     "metadata": {},
     "output_type": "execute_result"
    }
   ],
   "source": [
    "CarDekho_Data.isnull().sum().sort_values(ascending=False)"
   ]
  },
  {
   "cell_type": "markdown",
   "metadata": {
    "colab_type": "text",
    "id": "MdU2albLGe6g"
   },
   "source": [
    "Happily there is no null values,but if there is any null values we can fill them by mean,median,mode and more missing value filling techniques."
   ]
  },
  {
   "cell_type": "markdown",
   "metadata": {
    "colab_type": "text",
    "id": "8fI4HfhZNNYp"
   },
   "source": [
    "Now ,we would like to the the statistics like Count,mean,mode,std,quantiles..etc. of all our our Features/Variables."
   ]
  },
  {
   "cell_type": "code",
   "execution_count": 7,
   "metadata": {
    "colab": {
     "base_uri": "https://localhost:8080/",
     "height": 297
    },
    "colab_type": "code",
    "id": "pMM0hztcFmaF",
    "outputId": "ad77655d-2f54-4a42-d8cf-565430d09878"
   },
   "outputs": [
    {
     "data": {
      "text/html": [
       "<div>\n",
       "<style scoped>\n",
       "    .dataframe tbody tr th:only-of-type {\n",
       "        vertical-align: middle;\n",
       "    }\n",
       "\n",
       "    .dataframe tbody tr th {\n",
       "        vertical-align: top;\n",
       "    }\n",
       "\n",
       "    .dataframe thead th {\n",
       "        text-align: right;\n",
       "    }\n",
       "</style>\n",
       "<table border=\"1\" class=\"dataframe\">\n",
       "  <thead>\n",
       "    <tr style=\"text-align: right;\">\n",
       "      <th></th>\n",
       "      <th>Year</th>\n",
       "      <th>Selling_Price</th>\n",
       "      <th>Present_Price</th>\n",
       "      <th>Kms_Driven</th>\n",
       "      <th>Owner</th>\n",
       "    </tr>\n",
       "  </thead>\n",
       "  <tbody>\n",
       "    <tr>\n",
       "      <th>count</th>\n",
       "      <td>301.000000</td>\n",
       "      <td>301.000000</td>\n",
       "      <td>301.000000</td>\n",
       "      <td>301.000000</td>\n",
       "      <td>301.000000</td>\n",
       "    </tr>\n",
       "    <tr>\n",
       "      <th>mean</th>\n",
       "      <td>2013.627907</td>\n",
       "      <td>4.661296</td>\n",
       "      <td>7.628472</td>\n",
       "      <td>36947.205980</td>\n",
       "      <td>0.043189</td>\n",
       "    </tr>\n",
       "    <tr>\n",
       "      <th>std</th>\n",
       "      <td>2.891554</td>\n",
       "      <td>5.082812</td>\n",
       "      <td>8.644115</td>\n",
       "      <td>38886.883882</td>\n",
       "      <td>0.247915</td>\n",
       "    </tr>\n",
       "    <tr>\n",
       "      <th>min</th>\n",
       "      <td>2003.000000</td>\n",
       "      <td>0.100000</td>\n",
       "      <td>0.320000</td>\n",
       "      <td>500.000000</td>\n",
       "      <td>0.000000</td>\n",
       "    </tr>\n",
       "    <tr>\n",
       "      <th>25%</th>\n",
       "      <td>2012.000000</td>\n",
       "      <td>0.900000</td>\n",
       "      <td>1.200000</td>\n",
       "      <td>15000.000000</td>\n",
       "      <td>0.000000</td>\n",
       "    </tr>\n",
       "    <tr>\n",
       "      <th>50%</th>\n",
       "      <td>2014.000000</td>\n",
       "      <td>3.600000</td>\n",
       "      <td>6.400000</td>\n",
       "      <td>32000.000000</td>\n",
       "      <td>0.000000</td>\n",
       "    </tr>\n",
       "    <tr>\n",
       "      <th>75%</th>\n",
       "      <td>2016.000000</td>\n",
       "      <td>6.000000</td>\n",
       "      <td>9.900000</td>\n",
       "      <td>48767.000000</td>\n",
       "      <td>0.000000</td>\n",
       "    </tr>\n",
       "    <tr>\n",
       "      <th>max</th>\n",
       "      <td>2018.000000</td>\n",
       "      <td>35.000000</td>\n",
       "      <td>92.600000</td>\n",
       "      <td>500000.000000</td>\n",
       "      <td>3.000000</td>\n",
       "    </tr>\n",
       "  </tbody>\n",
       "</table>\n",
       "</div>"
      ],
      "text/plain": [
       "              Year  Selling_Price  Present_Price     Kms_Driven       Owner\n",
       "count   301.000000     301.000000     301.000000     301.000000  301.000000\n",
       "mean   2013.627907       4.661296       7.628472   36947.205980    0.043189\n",
       "std       2.891554       5.082812       8.644115   38886.883882    0.247915\n",
       "min    2003.000000       0.100000       0.320000     500.000000    0.000000\n",
       "25%    2012.000000       0.900000       1.200000   15000.000000    0.000000\n",
       "50%    2014.000000       3.600000       6.400000   32000.000000    0.000000\n",
       "75%    2016.000000       6.000000       9.900000   48767.000000    0.000000\n",
       "max    2018.000000      35.000000      92.600000  500000.000000    3.000000"
      ]
     },
     "execution_count": 7,
     "metadata": {},
     "output_type": "execute_result"
    }
   ],
   "source": [
    "CarDekho_Data.describe()"
   ]
  },
  {
   "cell_type": "markdown",
   "metadata": {
    "colab_type": "text",
    "id": "lzYERWSaNXZf"
   },
   "source": [
    "Lets,see what are the name of the columns of our Data Frame."
   ]
  },
  {
   "cell_type": "code",
   "execution_count": 8,
   "metadata": {
    "colab": {
     "base_uri": "https://localhost:8080/",
     "height": 68
    },
    "colab_type": "code",
    "id": "BtlDGJqgNYbL",
    "outputId": "001da376-5fc8-4b6f-a0ea-49028049f023"
   },
   "outputs": [
    {
     "data": {
      "text/plain": [
       "Index(['Year', 'Selling_Price', 'Present_Price', 'Kms_Driven', 'Fuel_Type',\n",
       "       'Seller_Type', 'Transmission', 'Owner'],\n",
       "      dtype='object')"
      ]
     },
     "execution_count": 8,
     "metadata": {},
     "output_type": "execute_result"
    }
   ],
   "source": [
    "CarDekho_Data.columns"
   ]
  },
  {
   "cell_type": "markdown",
   "metadata": {
    "colab_type": "text",
    "id": "CgrhorIWOStW"
   },
   "source": [
    "Checking if there are any dublicates"
   ]
  },
  {
   "cell_type": "code",
   "execution_count": 9,
   "metadata": {
    "colab": {
     "base_uri": "https://localhost:8080/",
     "height": 34
    },
    "colab_type": "code",
    "id": "bubZFD5NLw1D",
    "outputId": "85187d26-9901-4aba-e974-3b604fc18214"
   },
   "outputs": [
    {
     "data": {
      "text/plain": [
       "True"
      ]
     },
     "execution_count": 9,
     "metadata": {},
     "output_type": "execute_result"
    }
   ],
   "source": [
    "CarDekho_Data.duplicated().any()"
   ]
  },
  {
   "cell_type": "markdown",
   "metadata": {
    "colab_type": "text",
    "id": "vXeNLrZDUaBD"
   },
   "source": [
    "We have some dublicate values lets check what they are."
   ]
  },
  {
   "cell_type": "code",
   "execution_count": 10,
   "metadata": {
    "colab": {},
    "colab_type": "code",
    "id": "B5XTMEWNTZRw"
   },
   "outputs": [],
   "source": [
    "duplicateRowsDF = CarDekho_Data[CarDekho_Data.duplicated()]"
   ]
  },
  {
   "cell_type": "markdown",
   "metadata": {
    "colab_type": "text",
    "id": "5C0BWjWrUl3O"
   },
   "source": [
    "Here we can see that the values which are dublicated are kms driven which is okay different cars can have the same kms driven."
   ]
  },
  {
   "cell_type": "code",
   "execution_count": 11,
   "metadata": {
    "colab": {
     "base_uri": "https://localhost:8080/",
     "height": 111
    },
    "colab_type": "code",
    "id": "PWm3lkr-Tccd",
    "outputId": "a7e5cbc5-d0f8-41ae-c6de-ad18ceadc818"
   },
   "outputs": [
    {
     "data": {
      "text/html": [
       "<div>\n",
       "<style scoped>\n",
       "    .dataframe tbody tr th:only-of-type {\n",
       "        vertical-align: middle;\n",
       "    }\n",
       "\n",
       "    .dataframe tbody tr th {\n",
       "        vertical-align: top;\n",
       "    }\n",
       "\n",
       "    .dataframe thead th {\n",
       "        text-align: right;\n",
       "    }\n",
       "</style>\n",
       "<table border=\"1\" class=\"dataframe\">\n",
       "  <thead>\n",
       "    <tr style=\"text-align: right;\">\n",
       "      <th></th>\n",
       "      <th>Year</th>\n",
       "      <th>Selling_Price</th>\n",
       "      <th>Present_Price</th>\n",
       "      <th>Kms_Driven</th>\n",
       "      <th>Fuel_Type</th>\n",
       "      <th>Seller_Type</th>\n",
       "      <th>Transmission</th>\n",
       "      <th>Owner</th>\n",
       "    </tr>\n",
       "  </thead>\n",
       "  <tbody>\n",
       "    <tr>\n",
       "      <th>17</th>\n",
       "      <td>2016</td>\n",
       "      <td>7.75</td>\n",
       "      <td>10.79</td>\n",
       "      <td>43000</td>\n",
       "      <td>Diesel</td>\n",
       "      <td>Dealer</td>\n",
       "      <td>Manual</td>\n",
       "      <td>0</td>\n",
       "    </tr>\n",
       "    <tr>\n",
       "      <th>93</th>\n",
       "      <td>2015</td>\n",
       "      <td>23.00</td>\n",
       "      <td>30.61</td>\n",
       "      <td>40000</td>\n",
       "      <td>Diesel</td>\n",
       "      <td>Dealer</td>\n",
       "      <td>Automatic</td>\n",
       "      <td>0</td>\n",
       "    </tr>\n",
       "  </tbody>\n",
       "</table>\n",
       "</div>"
      ],
      "text/plain": [
       "    Year  Selling_Price  Present_Price  Kms_Driven Fuel_Type Seller_Type  \\\n",
       "17  2016           7.75          10.79       43000    Diesel      Dealer   \n",
       "93  2015          23.00          30.61       40000    Diesel      Dealer   \n",
       "\n",
       "   Transmission  Owner  \n",
       "17       Manual      0  \n",
       "93    Automatic      0  "
      ]
     },
     "execution_count": 11,
     "metadata": {},
     "output_type": "execute_result"
    }
   ],
   "source": [
    "duplicateRowsDF"
   ]
  },
  {
   "cell_type": "markdown",
   "metadata": {
    "colab_type": "text",
    "id": "8j6LjooCVSPd"
   },
   "source": [
    "**Plotting and finding Insights.**"
   ]
  },
  {
   "cell_type": "markdown",
   "metadata": {
    "colab_type": "text",
    "id": "qM3VkgYWVZ-s"
   },
   "source": [
    "As,we know the Owner Variable is object type lets convert it into object."
   ]
  },
  {
   "cell_type": "code",
   "execution_count": 12,
   "metadata": {
    "colab": {},
    "colab_type": "code",
    "id": "ezHh45lSOa7Z"
   },
   "outputs": [],
   "source": [
    "CarDekho_Data[\"Owner\"]=CarDekho_Data[\"Owner\"].astype(\"object\")"
   ]
  },
  {
   "cell_type": "markdown",
   "metadata": {
    "colab_type": "text",
    "id": "a6J2BlU-YW7I"
   },
   "source": [
    "Now we will jump into the Plots to get out insights.\n",
    "\n",
    "\n",
    "Here we can see that:\n",
    "\n",
    "> Most of the cars owned by the people are of Petrol Type.\n",
    "\n",
    "> People are buying more petrol Cars then Diesel and CNG.\n",
    "\n",
    "\n",
    "\n",
    "\n",
    "\n",
    "\n"
   ]
  },
  {
   "cell_type": "code",
   "execution_count": 13,
   "metadata": {
    "colab": {
     "base_uri": "https://localhost:8080/",
     "height": 300
    },
    "colab_type": "code",
    "id": "9yY8GoR9Ok97",
    "outputId": "0d875c4b-aef2-46d8-f083-07a9fd052e4f"
   },
   "outputs": [
    {
     "data": {
      "text/plain": [
       "<AxesSubplot:xlabel='Fuel_Type', ylabel='count'>"
      ]
     },
     "execution_count": 13,
     "metadata": {},
     "output_type": "execute_result"
    },
    {
     "data": {
      "image/png": "[encoded data removed]",
      "text/plain": [
       "<Figure size 432x288 with 1 Axes>"
      ]
     },
     "metadata": {
      "needs_background": "light"
     },
     "output_type": "display_data"
    }
   ],
   "source": [
    "#Fuel type\n",
    "figsize=(5,7)\n",
    "sns.countplot(CarDekho_Data[\"Fuel_Type\"])"
   ]
  },
  {
   "cell_type": "markdown",
   "metadata": {
    "colab_type": "text",
    "id": "9BniP-s6ZWXQ"
   },
   "source": [
    "Here we can see that:\n",
    "\n",
    "> Most of the seller type is Dealers only.\n",
    "\n",
    "> But we can see that Individual sellers are coming up  with the help of online marketplace.\n",
    "\n",
    "\n",
    "\n"
   ]
  },
  {
   "cell_type": "code",
   "execution_count": 14,
   "metadata": {
    "colab": {
     "base_uri": "https://localhost:8080/",
     "height": 297
    },
    "colab_type": "code",
    "id": "R_YtJCJHWbK6",
    "outputId": "04abb543-c9dc-4593-de8e-87d2bc5f66d2"
   },
   "outputs": [
    {
     "data": {
      "text/plain": [
       "<AxesSubplot:xlabel='Seller_Type', ylabel='count'>"
      ]
     },
     "execution_count": 14,
     "metadata": {},
     "output_type": "execute_result"
    },
    {
     "data": {
      "image/png": "[encoded data removed]",
      "text/plain": [
       "<Figure size 432x288 with 1 Axes>"
      ]
     },
     "metadata": {
      "needs_background": "light"
     },
     "output_type": "display_data"
    }
   ],
   "source": [
    "#Seller Type\n",
    "figsize=(5,7)\n",
    "sns.countplot(CarDekho_Data[\"Seller_Type\"])"
   ]
  },
  {
   "cell_type": "markdown",
   "metadata": {
    "colab_type": "text",
    "id": "EGPiHbnfa3R_"
   },
   "source": [
    "Here we can see that:\n",
    "\n",
    "> Most of the preffered cars in transmission is Manual\n",
    "\n",
    "\n",
    "\n"
   ]
  },
  {
   "cell_type": "code",
   "execution_count": 15,
   "metadata": {
    "colab": {
     "base_uri": "https://localhost:8080/",
     "height": 296
    },
    "colab_type": "code",
    "id": "UN84UWnDX1wL",
    "outputId": "f3f56ec1-b119-4ca3-e450-0103775da3a0"
   },
   "outputs": [
    {
     "data": {
      "text/plain": [
       "<AxesSubplot:xlabel='Transmission', ylabel='count'>"
      ]
     },
     "execution_count": 15,
     "metadata": {},
     "output_type": "execute_result"
    },
    {
     "data": {
      "image/png": "[encoded data removed]",
      "text/plain": [
       "<Figure size 432x288 with 1 Axes>"
      ]
     },
     "metadata": {
      "needs_background": "light"
     },
     "output_type": "display_data"
    }
   ],
   "source": [
    "#Transmission \n",
    "figsize=(5,7)\n",
    "sns.countplot(CarDekho_Data[\"Transmission\"])"
   ]
  },
  {
   "cell_type": "markdown",
   "metadata": {
    "colab_type": "text",
    "id": "MPeqPCUqbmyU"
   },
   "source": [
    "Here we can see that:\n",
    "\n",
    "> Most of the cars are owned by the first owner.\n",
    "\n",
    "> The second hand cars are less in number.\n",
    "\n",
    "\n",
    "\n"
   ]
  },
  {
   "cell_type": "code",
   "execution_count": 16,
   "metadata": {
    "colab": {
     "base_uri": "https://localhost:8080/",
     "height": 297
    },
    "colab_type": "code",
    "id": "7eFFaNskX8cn",
    "outputId": "0ca22bf6-b3db-4658-980f-cb16fd905e37"
   },
   "outputs": [
    {
     "data": {
      "text/plain": [
       "<AxesSubplot:xlabel='Owner', ylabel='count'>"
      ]
     },
     "execution_count": 16,
     "metadata": {},
     "output_type": "execute_result"
    },
    {
     "data": {
      "image/png": "[encoded data removed]",
      "text/plain": [
       "<Figure size 432x288 with 1 Axes>"
      ]
     },
     "metadata": {
      "needs_background": "light"
     },
     "output_type": "display_data"
    }
   ],
   "source": [
    "#Car Name \n",
    "figsize=(5,7)\n",
    "sns.countplot(CarDekho_Data[\"Owner\"])"
   ]
  },
  {
   "cell_type": "code",
   "execution_count": 17,
   "metadata": {
    "colab": {
     "base_uri": "https://localhost:8080/",
     "height": 68
    },
    "colab_type": "code",
    "id": "TLZk9LoOFbJ4",
    "outputId": "a1bb7930-9142-4ed5-b8cd-41100f603afc"
   },
   "outputs": [
    {
     "data": {
      "text/plain": [
       "Index(['Year', 'Selling_Price', 'Present_Price', 'Kms_Driven', 'Fuel_Type',\n",
       "       'Seller_Type', 'Transmission', 'Owner'],\n",
       "      dtype='object')"
      ]
     },
     "execution_count": 17,
     "metadata": {},
     "output_type": "execute_result"
    }
   ],
   "source": [
    "CarDekho_Data.columns"
   ]
  },
  {
   "cell_type": "markdown",
   "metadata": {
    "colab_type": "text",
    "id": "Keq8FP-aNKY3"
   },
   "source": [
    "Here we can see that:\n",
    "\n",
    "> In most of the year the Present price of the Car with the 1st owner is high.\n",
    "\n",
    "\n",
    "\n"
   ]
  },
  {
   "cell_type": "code",
   "execution_count": 18,
   "metadata": {
    "colab": {
     "base_uri": "https://localhost:8080/",
     "height": 606
    },
    "colab_type": "code",
    "id": "OJBrmnRjYCqL",
    "outputId": "4b7f4823-a722-4802-c75b-41b46e4352d0"
   },
   "outputs": [
    {
     "data": {
      "image/png": "[encoded data removed]",
      "text/plain": [
       "<Figure size 1440x720 with 1 Axes>"
      ]
     },
     "metadata": {
      "needs_background": "light"
     },
     "output_type": "display_data"
    }
   ],
   "source": [
    "Year_trans=CarDekho_Data.groupby([\"Year\",\"Owner\"])[\"Present_Price\"].mean().reset_index()\n",
    "\n",
    "plt.figure(figsize=(20,10))\n",
    "sns.barplot(x=\"Year\",y=\"Present_Price\",hue=\"Owner\",data=Year_trans)\n",
    "plt.xlabel(\"Year\")\n",
    "plt.ylabel(\"Average Present price\")\n",
    "plt.show()"
   ]
  },
  {
   "cell_type": "markdown",
   "metadata": {
    "colab_type": "text",
    "id": "MbHtGofxNr3p"
   },
   "source": [
    "Here we can see that:\n",
    "\n",
    "> when the car is sold at a price the high selling price is with the first car owners rather the second and third.\n",
    "\n"
   ]
  },
  {
   "cell_type": "code",
   "execution_count": 19,
   "metadata": {
    "colab": {
     "base_uri": "https://localhost:8080/",
     "height": 606
    },
    "colab_type": "code",
    "id": "MlyWxIZ8FEIe",
    "outputId": "cf99d5cc-2d5a-43a3-ea9d-6470ab998168"
   },
   "outputs": [
    {
     "data": {
      "image/png": "[encoded data removed]",
      "text/plain": [
       "<Figure size 1440x720 with 1 Axes>"
      ]
     },
     "metadata": {
      "needs_background": "light"
     },
     "output_type": "display_data"
    }
   ],
   "source": [
    "Year_trans_sell=CarDekho_Data.groupby([\"Year\",\"Owner\"])[\"Selling_Price\"].mean().reset_index()\n",
    "\n",
    "plt.figure(figsize=(20,10))\n",
    "sns.barplot(x=\"Year\",y=\"Selling_Price\",hue=\"Owner\",data=Year_trans_sell)\n",
    "plt.xlabel(\"Year\")\n",
    "plt.ylabel(\"Average Selling Price\")\n",
    "plt.show()"
   ]
  },
  {
   "cell_type": "markdown",
   "metadata": {
    "colab_type": "text",
    "id": "j4Ntx_zsRm-4"
   },
   "source": [
    "Here we can see that:\n",
    "\n",
    "> The first owners have driven the less kms on average.\n",
    "\n",
    "> Its Better to buy a car form first owner.\n",
    "\n",
    "\n",
    "\n"
   ]
  },
  {
   "cell_type": "code",
   "execution_count": 20,
   "metadata": {
    "colab": {
     "base_uri": "https://localhost:8080/",
     "height": 334
    },
    "colab_type": "code",
    "id": "9cLLab4EHFb3",
    "outputId": "1c276910-2675-4188-8861-d094a9fe4cfc"
   },
   "outputs": [
    {
     "data": {
      "image/png": "[encoded data removed]",
      "text/plain": [
       "<Figure size 720x360 with 1 Axes>"
      ]
     },
     "metadata": {
      "needs_background": "light"
     },
     "output_type": "display_data"
    }
   ],
   "source": [
    "Owner_kms=CarDekho_Data.groupby([\"Owner\"])[\"Kms_Driven\"].mean().reset_index()\n",
    "\n",
    "plt.figure(figsize=(10,5))\n",
    "sns.barplot(x=\"Owner\",y=\"Kms_Driven\",data=Owner_kms)\n",
    "plt.xlabel(\"Owner Type\")\n",
    "plt.ylabel(\"Average Kms driven\")\n",
    "plt.show()"
   ]
  },
  {
   "cell_type": "markdown",
   "metadata": {
    "colab_type": "text",
    "id": "P0-3sYgeR_k1"
   },
   "source": [
    "Here we can see that:\n",
    "\n",
    "\n",
    "> The dealers are having/selling the cars which are on average driven 40 Thousand km driven which is a lot.\n",
    "\n",
    "> where as the Individuals which are having/selling the cars which is driven 30 thousand km driven just 10000 less the dealers.\n",
    "\n",
    "> Its better to buy a car from Individual if you want less km driven cars.\n",
    "\n",
    "\n",
    "\n",
    "\n",
    "\n"
   ]
  },
  {
   "cell_type": "code",
   "execution_count": 21,
   "metadata": {
    "colab": {
     "base_uri": "https://localhost:8080/",
     "height": 334
    },
    "colab_type": "code",
    "id": "rOCPa7LNOy7w",
    "outputId": "e5d96c0d-d9ed-457c-e7f2-d30f0387f460"
   },
   "outputs": [
    {
     "data": {
      "image/png": "[encoded data removed]",
      "text/plain": [
       "<Figure size 720x360 with 1 Axes>"
      ]
     },
     "metadata": {
      "needs_background": "light"
     },
     "output_type": "display_data"
    }
   ],
   "source": [
    "Seller_kms=CarDekho_Data.groupby([\"Seller_Type\"])[\"Kms_Driven\"].mean().reset_index()\n",
    "\n",
    "plt.figure(figsize=(10,5))\n",
    "sns.barplot(x=\"Seller_Type\",y=\"Kms_Driven\",data=Seller_kms)\n",
    "plt.xlabel(\"Seller Type\")\n",
    "plt.ylabel(\"Average Kms driven\")\n",
    "plt.show()"
   ]
  },
  {
   "cell_type": "markdown",
   "metadata": {
    "colab_type": "text",
    "id": "m1DrYQwhUplb"
   },
   "source": [
    "Here we can see that:\n",
    "\n",
    "> The Automatic cars are most costly then the Manual cars.\n",
    "\n"
   ]
  },
  {
   "cell_type": "code",
   "execution_count": 22,
   "metadata": {
    "colab": {
     "base_uri": "https://localhost:8080/",
     "height": 296
    },
    "colab_type": "code",
    "id": "5pJ1TpoGRS8i",
    "outputId": "e7f436d8-2228-4e7d-a034-f082156e5d58"
   },
   "outputs": [
    {
     "data": {
      "text/plain": [
       "<AxesSubplot:xlabel='Transmission', ylabel='Selling_Price'>"
      ]
     },
     "execution_count": 22,
     "metadata": {},
     "output_type": "execute_result"
    },
    {
     "data": {
      "image/png": "[encoded data removed]",
      "text/plain": [
       "<Figure size 432x288 with 1 Axes>"
      ]
     },
     "metadata": {
      "needs_background": "light"
     },
     "output_type": "display_data"
    }
   ],
   "source": [
    "sns.boxplot(x=\"Transmission\",y=\"Selling_Price\",data=CarDekho_Data,)"
   ]
  },
  {
   "cell_type": "markdown",
   "metadata": {
    "colab_type": "text",
    "id": "1n5xyrNQVUE9"
   },
   "source": [
    "Here we can see that:\n",
    "\n",
    "> The dealers are selling the cars at a higher price ,as above seen they have the cars which have higher kms driven in that case price should be less.\n",
    "\n",
    "> The Individuals are selling there cars at a lower price despite being less kms driven seen above.\n",
    "\n",
    "\n",
    "\n"
   ]
  },
  {
   "cell_type": "code",
   "execution_count": 23,
   "metadata": {
    "colab": {
     "base_uri": "https://localhost:8080/",
     "height": 297
    },
    "colab_type": "code",
    "id": "zRxepOEmT6xy",
    "outputId": "147e90af-c83b-4f09-a74c-45da8b633bfa"
   },
   "outputs": [
    {
     "data": {
      "text/plain": [
       "<AxesSubplot:xlabel='Seller_Type', ylabel='Selling_Price'>"
      ]
     },
     "execution_count": 23,
     "metadata": {},
     "output_type": "execute_result"
    },
    {
     "data": {
      "image/png": "[encoded data removed]",
      "text/plain": [
       "<Figure size 432x288 with 1 Axes>"
      ]
     },
     "metadata": {
      "needs_background": "light"
     },
     "output_type": "display_data"
    }
   ],
   "source": [
    "sns.boxplot(x=\"Seller_Type\",y=\"Selling_Price\",data=CarDekho_Data)"
   ]
  },
  {
   "cell_type": "markdown",
   "metadata": {
    "colab_type": "text",
    "id": "Ypix-VpXXcI4"
   },
   "source": [
    "Lets take out The categorical Variables and label encode them."
   ]
  },
  {
   "cell_type": "code",
   "execution_count": 24,
   "metadata": {
    "colab": {},
    "colab_type": "code",
    "id": "bMtNKYXsWRDL"
   },
   "outputs": [],
   "source": [
    "Categorical_data=[]\n",
    "Numerical_data=[]\n",
    "\n",
    "for i,c in enumerate(CarDekho_Data.dtypes):\n",
    "  if c==object:\n",
    "    Categorical_data.append(CarDekho_Data.iloc[:,i])\n",
    "\n",
    "  else:\n",
    "    Numerical_data.append(CarDekho_Data.iloc[:,i])"
   ]
  },
  {
   "cell_type": "code",
   "execution_count": 25,
   "metadata": {
    "colab": {},
    "colab_type": "code",
    "id": "p0dVtlsPYxSB"
   },
   "outputs": [],
   "source": [
    "Categorical_data=pd.DataFrame(Categorical_data).transpose()\n",
    "Numerical_data=pd.DataFrame(Numerical_data).transpose()"
   ]
  },
  {
   "cell_type": "code",
   "execution_count": 26,
   "metadata": {
    "colab": {
     "base_uri": "https://localhost:8080/",
     "height": 204
    },
    "colab_type": "code",
    "id": "alNWGplAYzIp",
    "outputId": "1208a10e-1c03-4539-bea2-b365c0160a7e"
   },
   "outputs": [
    {
     "data": {
      "text/html": [
       "<div>\n",
       "<style scoped>\n",
       "    .dataframe tbody tr th:only-of-type {\n",
       "        vertical-align: middle;\n",
       "    }\n",
       "\n",
       "    .dataframe tbody tr th {\n",
       "        vertical-align: top;\n",
       "    }\n",
       "\n",
       "    .dataframe thead th {\n",
       "        text-align: right;\n",
       "    }\n",
       "</style>\n",
       "<table border=\"1\" class=\"dataframe\">\n",
       "  <thead>\n",
       "    <tr style=\"text-align: right;\">\n",
       "      <th></th>\n",
       "      <th>Fuel_Type</th>\n",
       "      <th>Seller_Type</th>\n",
       "      <th>Transmission</th>\n",
       "      <th>Owner</th>\n",
       "    </tr>\n",
       "  </thead>\n",
       "  <tbody>\n",
       "    <tr>\n",
       "      <th>0</th>\n",
       "      <td>Petrol</td>\n",
       "      <td>Dealer</td>\n",
       "      <td>Manual</td>\n",
       "      <td>0</td>\n",
       "    </tr>\n",
       "    <tr>\n",
       "      <th>1</th>\n",
       "      <td>Diesel</td>\n",
       "      <td>Dealer</td>\n",
       "      <td>Manual</td>\n",
       "      <td>0</td>\n",
       "    </tr>\n",
       "    <tr>\n",
       "      <th>2</th>\n",
       "      <td>Petrol</td>\n",
       "      <td>Dealer</td>\n",
       "      <td>Manual</td>\n",
       "      <td>0</td>\n",
       "    </tr>\n",
       "    <tr>\n",
       "      <th>3</th>\n",
       "      <td>Petrol</td>\n",
       "      <td>Dealer</td>\n",
       "      <td>Manual</td>\n",
       "      <td>0</td>\n",
       "    </tr>\n",
       "    <tr>\n",
       "      <th>4</th>\n",
       "      <td>Diesel</td>\n",
       "      <td>Dealer</td>\n",
       "      <td>Manual</td>\n",
       "      <td>0</td>\n",
       "    </tr>\n",
       "  </tbody>\n",
       "</table>\n",
       "</div>"
      ],
      "text/plain": [
       "  Fuel_Type Seller_Type Transmission Owner\n",
       "0    Petrol      Dealer       Manual     0\n",
       "1    Diesel      Dealer       Manual     0\n",
       "2    Petrol      Dealer       Manual     0\n",
       "3    Petrol      Dealer       Manual     0\n",
       "4    Diesel      Dealer       Manual     0"
      ]
     },
     "execution_count": 26,
     "metadata": {},
     "output_type": "execute_result"
    }
   ],
   "source": [
    "Categorical_data.head()"
   ]
  },
  {
   "cell_type": "code",
   "execution_count": 27,
   "metadata": {
    "colab": {
     "base_uri": "https://localhost:8080/",
     "height": 204
    },
    "colab_type": "code",
    "id": "IRo-dHm8aoPi",
    "outputId": "7703df3d-ac26-45ad-f9f0-e92daf1adb47"
   },
   "outputs": [
    {
     "data": {
      "text/html": [
       "<div>\n",
       "<style scoped>\n",
       "    .dataframe tbody tr th:only-of-type {\n",
       "        vertical-align: middle;\n",
       "    }\n",
       "\n",
       "    .dataframe tbody tr th {\n",
       "        vertical-align: top;\n",
       "    }\n",
       "\n",
       "    .dataframe thead th {\n",
       "        text-align: right;\n",
       "    }\n",
       "</style>\n",
       "<table border=\"1\" class=\"dataframe\">\n",
       "  <thead>\n",
       "    <tr style=\"text-align: right;\">\n",
       "      <th></th>\n",
       "      <th>Year</th>\n",
       "      <th>Selling_Price</th>\n",
       "      <th>Present_Price</th>\n",
       "      <th>Kms_Driven</th>\n",
       "    </tr>\n",
       "  </thead>\n",
       "  <tbody>\n",
       "    <tr>\n",
       "      <th>0</th>\n",
       "      <td>2014.0</td>\n",
       "      <td>3.35</td>\n",
       "      <td>5.59</td>\n",
       "      <td>27000.0</td>\n",
       "    </tr>\n",
       "    <tr>\n",
       "      <th>1</th>\n",
       "      <td>2013.0</td>\n",
       "      <td>4.75</td>\n",
       "      <td>9.54</td>\n",
       "      <td>43000.0</td>\n",
       "    </tr>\n",
       "    <tr>\n",
       "      <th>2</th>\n",
       "      <td>2017.0</td>\n",
       "      <td>7.25</td>\n",
       "      <td>9.85</td>\n",
       "      <td>6900.0</td>\n",
       "    </tr>\n",
       "    <tr>\n",
       "      <th>3</th>\n",
       "      <td>2011.0</td>\n",
       "      <td>2.85</td>\n",
       "      <td>4.15</td>\n",
       "      <td>5200.0</td>\n",
       "    </tr>\n",
       "    <tr>\n",
       "      <th>4</th>\n",
       "      <td>2014.0</td>\n",
       "      <td>4.60</td>\n",
       "      <td>6.87</td>\n",
       "      <td>42450.0</td>\n",
       "    </tr>\n",
       "  </tbody>\n",
       "</table>\n",
       "</div>"
      ],
      "text/plain": [
       "     Year  Selling_Price  Present_Price  Kms_Driven\n",
       "0  2014.0           3.35           5.59     27000.0\n",
       "1  2013.0           4.75           9.54     43000.0\n",
       "2  2017.0           7.25           9.85      6900.0\n",
       "3  2011.0           2.85           4.15      5200.0\n",
       "4  2014.0           4.60           6.87     42450.0"
      ]
     },
     "execution_count": 27,
     "metadata": {},
     "output_type": "execute_result"
    }
   ],
   "source": [
    "Numerical_data.head()"
   ]
  },
  {
   "cell_type": "code",
   "execution_count": 28,
   "metadata": {
    "colab": {},
    "colab_type": "code",
    "id": "8AKZA649ZFXG"
   },
   "outputs": [],
   "source": [
    "from sklearn.preprocessing import LabelEncoder\n",
    "LE=LabelEncoder()"
   ]
  },
  {
   "cell_type": "code",
   "execution_count": 29,
   "metadata": {
    "colab": {},
    "colab_type": "code",
    "id": "iRSlc2skZkBS"
   },
   "outputs": [],
   "source": [
    "for i in Categorical_data:\n",
    "  Categorical_data[i]=LE.fit_transform(Categorical_data[i])"
   ]
  },
  {
   "cell_type": "code",
   "execution_count": 30,
   "metadata": {
    "colab": {
     "base_uri": "https://localhost:8080/",
     "height": 204
    },
    "colab_type": "code",
    "id": "3fOI0WE6Z4Ib",
    "outputId": "0f7542bf-7b18-42a4-ca2a-5b7e7e32bf81"
   },
   "outputs": [
    {
     "data": {
      "text/html": [
       "<div>\n",
       "<style scoped>\n",
       "    .dataframe tbody tr th:only-of-type {\n",
       "        vertical-align: middle;\n",
       "    }\n",
       "\n",
       "    .dataframe tbody tr th {\n",
       "        vertical-align: top;\n",
       "    }\n",
       "\n",
       "    .dataframe thead th {\n",
       "        text-align: right;\n",
       "    }\n",
       "</style>\n",
       "<table border=\"1\" class=\"dataframe\">\n",
       "  <thead>\n",
       "    <tr style=\"text-align: right;\">\n",
       "      <th></th>\n",
       "      <th>Fuel_Type</th>\n",
       "      <th>Seller_Type</th>\n",
       "      <th>Transmission</th>\n",
       "      <th>Owner</th>\n",
       "    </tr>\n",
       "  </thead>\n",
       "  <tbody>\n",
       "    <tr>\n",
       "      <th>0</th>\n",
       "      <td>2</td>\n",
       "      <td>0</td>\n",
       "      <td>1</td>\n",
       "      <td>0</td>\n",
       "    </tr>\n",
       "    <tr>\n",
       "      <th>1</th>\n",
       "      <td>1</td>\n",
       "      <td>0</td>\n",
       "      <td>1</td>\n",
       "      <td>0</td>\n",
       "    </tr>\n",
       "    <tr>\n",
       "      <th>2</th>\n",
       "      <td>2</td>\n",
       "      <td>0</td>\n",
       "      <td>1</td>\n",
       "      <td>0</td>\n",
       "    </tr>\n",
       "    <tr>\n",
       "      <th>3</th>\n",
       "      <td>2</td>\n",
       "      <td>0</td>\n",
       "      <td>1</td>\n",
       "      <td>0</td>\n",
       "    </tr>\n",
       "    <tr>\n",
       "      <th>4</th>\n",
       "      <td>1</td>\n",
       "      <td>0</td>\n",
       "      <td>1</td>\n",
       "      <td>0</td>\n",
       "    </tr>\n",
       "  </tbody>\n",
       "</table>\n",
       "</div>"
      ],
      "text/plain": [
       "   Fuel_Type  Seller_Type  Transmission  Owner\n",
       "0          2            0             1      0\n",
       "1          1            0             1      0\n",
       "2          2            0             1      0\n",
       "3          2            0             1      0\n",
       "4          1            0             1      0"
      ]
     },
     "execution_count": 30,
     "metadata": {},
     "output_type": "execute_result"
    }
   ],
   "source": [
    "Categorical_data.head()"
   ]
  },
  {
   "cell_type": "code",
   "execution_count": 31,
   "metadata": {
    "colab": {},
    "colab_type": "code",
    "id": "pa3YGubwZ8Cm"
   },
   "outputs": [],
   "source": [
    "CarDekho_Data_Proces=pd.concat([Categorical_data,Numerical_data],axis=1)"
   ]
  },
  {
   "cell_type": "code",
   "execution_count": 32,
   "metadata": {
    "colab": {
     "base_uri": "https://localhost:8080/",
     "height": 204
    },
    "colab_type": "code",
    "id": "5LAwzVN4aHr6",
    "outputId": "e240944e-12df-4f75-84d1-97643d88fbf1"
   },
   "outputs": [
    {
     "data": {
      "text/html": [
       "<div>\n",
       "<style scoped>\n",
       "    .dataframe tbody tr th:only-of-type {\n",
       "        vertical-align: middle;\n",
       "    }\n",
       "\n",
       "    .dataframe tbody tr th {\n",
       "        vertical-align: top;\n",
       "    }\n",
       "\n",
       "    .dataframe thead th {\n",
       "        text-align: right;\n",
       "    }\n",
       "</style>\n",
       "<table border=\"1\" class=\"dataframe\">\n",
       "  <thead>\n",
       "    <tr style=\"text-align: right;\">\n",
       "      <th></th>\n",
       "      <th>Fuel_Type</th>\n",
       "      <th>Seller_Type</th>\n",
       "      <th>Transmission</th>\n",
       "      <th>Owner</th>\n",
       "      <th>Year</th>\n",
       "      <th>Selling_Price</th>\n",
       "      <th>Present_Price</th>\n",
       "      <th>Kms_Driven</th>\n",
       "    </tr>\n",
       "  </thead>\n",
       "  <tbody>\n",
       "    <tr>\n",
       "      <th>0</th>\n",
       "      <td>2</td>\n",
       "      <td>0</td>\n",
       "      <td>1</td>\n",
       "      <td>0</td>\n",
       "      <td>2014.0</td>\n",
       "      <td>3.35</td>\n",
       "      <td>5.59</td>\n",
       "      <td>27000.0</td>\n",
       "    </tr>\n",
       "    <tr>\n",
       "      <th>1</th>\n",
       "      <td>1</td>\n",
       "      <td>0</td>\n",
       "      <td>1</td>\n",
       "      <td>0</td>\n",
       "      <td>2013.0</td>\n",
       "      <td>4.75</td>\n",
       "      <td>9.54</td>\n",
       "      <td>43000.0</td>\n",
       "    </tr>\n",
       "    <tr>\n",
       "      <th>2</th>\n",
       "      <td>2</td>\n",
       "      <td>0</td>\n",
       "      <td>1</td>\n",
       "      <td>0</td>\n",
       "      <td>2017.0</td>\n",
       "      <td>7.25</td>\n",
       "      <td>9.85</td>\n",
       "      <td>6900.0</td>\n",
       "    </tr>\n",
       "    <tr>\n",
       "      <th>3</th>\n",
       "      <td>2</td>\n",
       "      <td>0</td>\n",
       "      <td>1</td>\n",
       "      <td>0</td>\n",
       "      <td>2011.0</td>\n",
       "      <td>2.85</td>\n",
       "      <td>4.15</td>\n",
       "      <td>5200.0</td>\n",
       "    </tr>\n",
       "    <tr>\n",
       "      <th>4</th>\n",
       "      <td>1</td>\n",
       "      <td>0</td>\n",
       "      <td>1</td>\n",
       "      <td>0</td>\n",
       "      <td>2014.0</td>\n",
       "      <td>4.60</td>\n",
       "      <td>6.87</td>\n",
       "      <td>42450.0</td>\n",
       "    </tr>\n",
       "  </tbody>\n",
       "</table>\n",
       "</div>"
      ],
      "text/plain": [
       "   Fuel_Type  Seller_Type  Transmission  Owner    Year  Selling_Price  \\\n",
       "0          2            0             1      0  2014.0           3.35   \n",
       "1          1            0             1      0  2013.0           4.75   \n",
       "2          2            0             1      0  2017.0           7.25   \n",
       "3          2            0             1      0  2011.0           2.85   \n",
       "4          1            0             1      0  2014.0           4.60   \n",
       "\n",
       "   Present_Price  Kms_Driven  \n",
       "0           5.59     27000.0  \n",
       "1           9.54     43000.0  \n",
       "2           9.85      6900.0  \n",
       "3           4.15      5200.0  \n",
       "4           6.87     42450.0  "
      ]
     },
     "execution_count": 32,
     "metadata": {},
     "output_type": "execute_result"
    }
   ],
   "source": [
    "CarDekho_Data_Proces.head()"
   ]
  },
  {
   "cell_type": "markdown",
   "metadata": {
    "colab_type": "text",
    "id": "TRKzHY_pcIrZ"
   },
   "source": [
    "Here we can see that:\n",
    "\n",
    "> The selling price and Present price have a correlation of 0.88\n",
    "\n",
    "> The Selling Price is highly correlated with the Present Price,so we can use any one of the Variable for our analysis but not both.\n",
    "\n",
    "\n",
    "\n"
   ]
  },
  {
   "cell_type": "code",
   "execution_count": 33,
   "metadata": {
    "colab": {
     "base_uri": "https://localhost:8080/",
     "height": 506
    },
    "colab_type": "code",
    "id": "Xtc6aoQ2bIMQ",
    "outputId": "4208f5cb-3554-4a71-f5fb-11ef64c55385"
   },
   "outputs": [
    {
     "data": {
      "text/plain": [
       "<AxesSubplot:>"
      ]
     },
     "execution_count": 33,
     "metadata": {},
     "output_type": "execute_result"
    },
    {
     "data": {
      "image/png": "[encoded data removed]",
      "text/plain": [
       "<Figure size 720x504 with 2 Axes>"
      ]
     },
     "metadata": {
      "needs_background": "light"
     },
     "output_type": "display_data"
    }
   ],
   "source": [
    "plt.figure(figsize=(10,7))\n",
    "plt.title=\"Correlation Matrix\"\n",
    "sns.heatmap(CarDekho_Data_Proces.corr(),annot=True)"
   ]
  },
  {
   "cell_type": "markdown",
   "metadata": {
    "colab_type": "text",
    "id": "OBQ0ahc3Vubf"
   },
   "source": [
    "Now lets check if the we have Outliers in our data."
   ]
  },
  {
   "cell_type": "markdown",
   "metadata": {
    "colab_type": "text",
    "id": "GmJvCoq-V3UH"
   },
   "source": [
    "Here we can see that:\n",
    "\n",
    "> The Kms_Driven shows that many of the data is Acting like a outliers.\n",
    "\n",
    "> But with the Help of domain Knowledge we can say that the Cars can we any Kms Driven as it is based on the Owner and the Selling price of that cars Adjust accordingly.\n",
    "\n",
    "\n",
    "\n"
   ]
  },
  {
   "cell_type": "code",
   "execution_count": 34,
   "metadata": {
    "colab": {
     "base_uri": "https://localhost:8080/",
     "height": 338
    },
    "colab_type": "code",
    "id": "TFeg6rHWh_gF",
    "outputId": "896d6eb0-eba0-4122-87b1-f0b131392df5"
   },
   "outputs": [
    {
     "data": {
      "text/plain": [
       "<AxesSubplot:>"
      ]
     },
     "execution_count": 34,
     "metadata": {},
     "output_type": "execute_result"
    },
    {
     "data": {
      "image/png": "[encoded data removed]",
      "text/plain": [
       "<Figure size 1080x360 with 1 Axes>"
      ]
     },
     "metadata": {
      "needs_background": "light"
     },
     "output_type": "display_data"
    }
   ],
   "source": [
    "CarDekho_Data_Proces.boxplot(figsize=(15,5))"
   ]
  },
  {
   "cell_type": "markdown",
   "metadata": {
    "colab_type": "text",
    "id": "qfRIqEPUWbAg"
   },
   "source": [
    "So Rather then removing the outliers values we would like to take log of them."
   ]
  },
  {
   "cell_type": "code",
   "execution_count": 35,
   "metadata": {
    "colab": {},
    "colab_type": "code",
    "id": "zMEX2iD-__Mi"
   },
   "outputs": [],
   "source": [
    "CarDekho_Data_Proces[\"log_Kms_Driven\"]= np.log10(CarDekho_Data_Proces[\"Kms_Driven\"])"
   ]
  },
  {
   "cell_type": "markdown",
   "metadata": {
    "colab_type": "text",
    "id": "oYUW9VP7WkfJ"
   },
   "source": [
    "Here we can see that:\n",
    "\n",
    "> We have succefully allined the data and now its not acting like outliers.\n",
    "\n",
    "> We have saved valuable information of kms Driven.\n",
    "\n",
    "\n",
    "\n"
   ]
  },
  {
   "cell_type": "code",
   "execution_count": 36,
   "metadata": {
    "colab": {
     "base_uri": "https://localhost:8080/",
     "height": 338
    },
    "colab_type": "code",
    "id": "ZY8Fw3VyCVqG",
    "outputId": "59a22d35-e5a5-4f34-f115-0df7cd51ebe8"
   },
   "outputs": [
    {
     "data": {
      "text/plain": [
       "<AxesSubplot:>"
      ]
     },
     "execution_count": 36,
     "metadata": {},
     "output_type": "execute_result"
    },
    {
     "data": {
      "image/png": "[encoded data removed]",
      "text/plain": [
       "<Figure size 1080x360 with 1 Axes>"
      ]
     },
     "metadata": {
      "needs_background": "light"
     },
     "output_type": "display_data"
    }
   ],
   "source": [
    "CarDekho_Data_Proces.boxplot(figsize=(15,5))"
   ]
  },
  {
   "cell_type": "code",
   "execution_count": 37,
   "metadata": {
    "colab": {},
    "colab_type": "code",
    "id": "cn3kdBJfeFfp"
   },
   "outputs": [],
   "source": [
    "#This fuction is used to download the files from google collab.\n",
    "#CarDekho_Data_Proces.to_csv(\"CarDekho.csv\")\n",
    "#files.download(\"CarDekho.csv\")"
   ]
  },
  {
   "cell_type": "markdown",
   "metadata": {
    "colab_type": "text",
    "id": "nHXtsZmRPXUt"
   },
   "source": [
    "Before Running into the Modeling Part we would to do some Hypothesis Testing."
   ]
  },
  {
   "cell_type": "markdown",
   "metadata": {
    "colab_type": "text",
    "id": "QYQuPSwnPlkV"
   },
   "source": []
  },
  {
   "cell_type": "code",
   "execution_count": 38,
   "metadata": {
    "colab": {
     "base_uri": "https://localhost:8080/",
     "height": 204
    },
    "colab_type": "code",
    "id": "S7py5Qc8bnnD",
    "outputId": "c2c7f007-fdfd-4711-dc04-8ea059770b55"
   },
   "outputs": [
    {
     "data": {
      "text/html": [
       "<div>\n",
       "<style scoped>\n",
       "    .dataframe tbody tr th:only-of-type {\n",
       "        vertical-align: middle;\n",
       "    }\n",
       "\n",
       "    .dataframe tbody tr th {\n",
       "        vertical-align: top;\n",
       "    }\n",
       "\n",
       "    .dataframe thead th {\n",
       "        text-align: right;\n",
       "    }\n",
       "</style>\n",
       "<table border=\"1\" class=\"dataframe\">\n",
       "  <thead>\n",
       "    <tr style=\"text-align: right;\">\n",
       "      <th></th>\n",
       "      <th>Fuel_Type</th>\n",
       "      <th>Seller_Type</th>\n",
       "      <th>Transmission</th>\n",
       "      <th>Owner</th>\n",
       "      <th>Year</th>\n",
       "      <th>Selling_Price</th>\n",
       "      <th>Present_Price</th>\n",
       "      <th>Kms_Driven</th>\n",
       "      <th>log_Kms_Driven</th>\n",
       "    </tr>\n",
       "  </thead>\n",
       "  <tbody>\n",
       "    <tr>\n",
       "      <th>0</th>\n",
       "      <td>2</td>\n",
       "      <td>0</td>\n",
       "      <td>1</td>\n",
       "      <td>0</td>\n",
       "      <td>2014.0</td>\n",
       "      <td>3.35</td>\n",
       "      <td>5.59</td>\n",
       "      <td>27000.0</td>\n",
       "      <td>4.431364</td>\n",
       "    </tr>\n",
       "    <tr>\n",
       "      <th>1</th>\n",
       "      <td>1</td>\n",
       "      <td>0</td>\n",
       "      <td>1</td>\n",
       "      <td>0</td>\n",
       "      <td>2013.0</td>\n",
       "      <td>4.75</td>\n",
       "      <td>9.54</td>\n",
       "      <td>43000.0</td>\n",
       "      <td>4.633468</td>\n",
       "    </tr>\n",
       "    <tr>\n",
       "      <th>2</th>\n",
       "      <td>2</td>\n",
       "      <td>0</td>\n",
       "      <td>1</td>\n",
       "      <td>0</td>\n",
       "      <td>2017.0</td>\n",
       "      <td>7.25</td>\n",
       "      <td>9.85</td>\n",
       "      <td>6900.0</td>\n",
       "      <td>3.838849</td>\n",
       "    </tr>\n",
       "    <tr>\n",
       "      <th>3</th>\n",
       "      <td>2</td>\n",
       "      <td>0</td>\n",
       "      <td>1</td>\n",
       "      <td>0</td>\n",
       "      <td>2011.0</td>\n",
       "      <td>2.85</td>\n",
       "      <td>4.15</td>\n",
       "      <td>5200.0</td>\n",
       "      <td>3.716003</td>\n",
       "    </tr>\n",
       "    <tr>\n",
       "      <th>4</th>\n",
       "      <td>1</td>\n",
       "      <td>0</td>\n",
       "      <td>1</td>\n",
       "      <td>0</td>\n",
       "      <td>2014.0</td>\n",
       "      <td>4.60</td>\n",
       "      <td>6.87</td>\n",
       "      <td>42450.0</td>\n",
       "      <td>4.627878</td>\n",
       "    </tr>\n",
       "  </tbody>\n",
       "</table>\n",
       "</div>"
      ],
      "text/plain": [
       "   Fuel_Type  Seller_Type  Transmission  Owner    Year  Selling_Price  \\\n",
       "0          2            0             1      0  2014.0           3.35   \n",
       "1          1            0             1      0  2013.0           4.75   \n",
       "2          2            0             1      0  2017.0           7.25   \n",
       "3          2            0             1      0  2011.0           2.85   \n",
       "4          1            0             1      0  2014.0           4.60   \n",
       "\n",
       "   Present_Price  Kms_Driven  log_Kms_Driven  \n",
       "0           5.59     27000.0        4.431364  \n",
       "1           9.54     43000.0        4.633468  \n",
       "2           9.85      6900.0        3.838849  \n",
       "3           4.15      5200.0        3.716003  \n",
       "4           6.87     42450.0        4.627878  "
      ]
     },
     "execution_count": 38,
     "metadata": {},
     "output_type": "execute_result"
    }
   ],
   "source": [
    "CarDekho_Data_Proces.head()"
   ]
  },
  {
   "cell_type": "markdown",
   "metadata": {
    "colab_type": "text",
    "id": "hH7mf5AIcoxa"
   },
   "source": [
    "**Reseach Question:**\n",
    "\n",
    "Through out all the passed year Cardekho.com is in the market the average price of the selling cars remained 5.5 lakhs.Cardekho.com claims that the price have not been changed and its the same average selling price.\n",
    "\n",
    "**Population:**All the data Cardekho.com has till present year.\n",
    "\n",
    "Now we will frame the null and alternate hypothesis as;\n",
    "\n",
    "**Null Hypothesis:**The average selling price of car is 5.5 lakhs.\n",
    "\n",
    "> H0 : myu(u) = 5.5\n",
    "\n",
    "**Alternate Hypothesis:**The average selling price of the cars have dropped below and is 4.6 now.\n",
    "\n",
    "> H1: myu(u) != 5.5.    # != denotes not equal.\n",
    "\n",
    "Data: we have the sample data from the Cardekho.com over the various years and will be doing hypothesis testing on that.\n",
    "\n",
    "so we will perform the ttest(two tail) as we have the sample standard deviation,and will take the confidence level of 95% which gives the alpa=0.05.\n",
    "\n",
    "\n",
    "\n",
    "\n"
   ]
  },
  {
   "cell_type": "code",
   "execution_count": 39,
   "metadata": {
    "colab": {},
    "colab_type": "code",
    "id": "zuqeerThcoJJ"
   },
   "outputs": [],
   "source": [
    "from scipy import stats #importing the stats based library."
   ]
  },
  {
   "cell_type": "code",
   "execution_count": 40,
   "metadata": {
    "colab": {
     "base_uri": "https://localhost:8080/",
     "height": 34
    },
    "colab_type": "code",
    "id": "3MmhaisN7Mck",
    "outputId": "570388bc-23b9-4bec-f01d-93fe86d7deb5"
   },
   "outputs": [
    {
     "data": {
      "text/plain": [
       "Ttest_1sampResult(statistic=-2.862780949897249, pvalue=0.004495114430610543)"
      ]
     },
     "execution_count": 40,
     "metadata": {},
     "output_type": "execute_result"
    }
   ],
   "source": [
    "stats.ttest_1samp(a=CarDekho_Data_Proces[\"Selling_Price\"],popmean=5.5) "
   ]
  },
  {
   "cell_type": "markdown",
   "metadata": {
    "colab_type": "text",
    "id": "HG0Y7qQj9IAP"
   },
   "source": [
    "here we can see that the:\n",
    "\n",
    "> Pvalue (0.05)>(0.0449)\n",
    "so we can conclude that we have sufficient evidence  to reject the null hypothesis(H0),and accept the alternate hypothesis(H1).\n",
    "\n",
    "> It means that the average selling price of the car is not 5.5.\n",
    "\n",
    "> Here the type 1 error is 0.05 we kept is as low as possible because type one error is critical for us in the hypothesis.\n",
    "\n",
    "\n",
    "\n",
    "\n",
    "\n"
   ]
  },
  {
   "cell_type": "markdown",
   "metadata": {
    "colab_type": "text",
    "id": "9PxpUTmkCImz"
   },
   "source": [
    "Research question:\n",
    "Cardekho.com being in the business of selling cars says that most of the cars which we buy get sold for just some price high so the average price overall of present price and selling price comes same at last.\n",
    "\n",
    "Population: All the data Cardekho.com has till present.\n",
    "\n",
    "Now we will frame the Null and Alternate Hypothesis.\n",
    "\n",
    "**Null Hypothesis:** The average selling and present price is same.\n",
    "\n",
    "> H0 : myu(u1) = myu(u2)\n",
    "\n",
    "**Alternate Hypothesis:** The average selling and present price is not same.\n",
    "\n",
    "> H1 : myu(u1) != myu(u2)   # != means not equal.\n",
    "\n",
    "**Data:** we have the sample data of the selling and present price over various year of cardekho.com.\n",
    "\n",
    "so here we will perform the Annova:One factor as here we need to see the difference bettwen the two means of different features.\n",
    "\n",
    "Hands down to excel for one click in this case,so we will do this analysis there and will undersatand the output for ours analysis.\n",
    "\n",
    "\n",
    "\n"
   ]
  },
  {
   "cell_type": "markdown",
   "metadata": {
    "colab_type": "text",
    "id": "QDnokf3hE5-E"
   },
   "source": [
    "![image.png](data:image/png;base64,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)"
   ]
  },
  {
   "cell_type": "markdown",
   "metadata": {
    "colab_type": "text",
    "id": "nnTpkxn2HrKt"
   },
   "source": [
    "From The above,we can see that we have the:\n",
    "\n",
    "> F(26.35) > F crit(3.85)\n",
    "\n",
    "> We have sufficient evidence to reject the Null Hypothesis(H0) and accept the Alternate Hypothesis(H1).\n",
    "\n",
    "> So,the conclusison is the average selling price and average present price of the cars is not same they are different.\n",
    "\n",
    "\n",
    "\n",
    "\n",
    "\n",
    "\n",
    "\n",
    "\n",
    "\n",
    "\n"
   ]
  },
  {
   "cell_type": "markdown",
   "metadata": {
    "colab_type": "text",
    "id": "mt3z8gOXbnrU"
   },
   "source": [
    "**Lets apply the Linear Regression:**"
   ]
  },
  {
   "cell_type": "code",
   "execution_count": 41,
   "metadata": {
    "colab": {},
    "colab_type": "code",
    "id": "PleJ2PCVby0Z"
   },
   "outputs": [],
   "source": [
    "from sklearn.linear_model import LinearRegression\n",
    "from sklearn.model_selection import train_test_split\n",
    "from sklearn.metrics import precision_score,accuracy_score\n"
   ]
  },
  {
   "cell_type": "code",
   "execution_count": 42,
   "metadata": {
    "colab": {},
    "colab_type": "code",
    "id": "oOXuzwm9c3YQ"
   },
   "outputs": [],
   "source": [
    "X=CarDekho_Data_Proces.drop([\"Selling_Price\"],axis=1)\n",
    "Y=CarDekho_Data_Proces[\"Selling_Price\"]"
   ]
  },
  {
   "cell_type": "code",
   "execution_count": 43,
   "metadata": {
    "colab": {},
    "colab_type": "code",
    "id": "lGiVHjcHdTtR"
   },
   "outputs": [],
   "source": [
    "X_train,X_test,Y_train,Y_test= train_test_split(X,Y,test_size=0.3,random_state=28)"
   ]
  },
  {
   "cell_type": "markdown",
   "metadata": {
    "colab_type": "text",
    "id": "UtOHi3W5oo3m"
   },
   "source": [
    "**Feature scaling**"
   ]
  },
  {
   "cell_type": "markdown",
   "metadata": {
    "colab_type": "text",
    "id": "l7OP1ay7owkv"
   },
   "source": [
    "We will apply StandardScaler as:\n",
    "StandardScaler assumes your data is normally distributed within each feature and will scale them so that the distribution is now centered around 0, with a standard deviation of 1."
   ]
  },
  {
   "cell_type": "code",
   "execution_count": 44,
   "metadata": {
    "colab": {},
    "colab_type": "code",
    "id": "I3JuWg-YooOh"
   },
   "outputs": [],
   "source": [
    "from sklearn.preprocessing import StandardScaler\n"
   ]
  },
  {
   "cell_type": "code",
   "execution_count": 45,
   "metadata": {
    "colab": {},
    "colab_type": "code",
    "id": "nR7VW8_upBvc"
   },
   "outputs": [],
   "source": [
    "Sc=StandardScaler()\n",
    "X_train=Sc.fit_transform(X_train)\n",
    "X_test=Sc.fit_transform(X_test)"
   ]
  },
  {
   "cell_type": "code",
   "execution_count": 46,
   "metadata": {
    "colab": {},
    "colab_type": "code",
    "id": "3yVEV-SEXkvC"
   },
   "outputs": [],
   "source": [
    "le=LinearRegression()\n",
    "le.fit(X_train,Y_train)\n",
    "y_pred=le.predict(X_test)"
   ]
  },
  {
   "cell_type": "markdown",
   "metadata": {
    "colab_type": "text",
    "id": "hCGj20DnRvF4"
   },
   "source": [
    "Lets also check the R2 score so that we can see how well its performing."
   ]
  },
  {
   "cell_type": "code",
   "execution_count": 47,
   "metadata": {
    "colab": {},
    "colab_type": "code",
    "id": "Ygjf2DTGR3jv"
   },
   "outputs": [],
   "source": [
    "from sklearn.metrics import r2_score"
   ]
  },
  {
   "cell_type": "code",
   "execution_count": 48,
   "metadata": {
    "colab": {
     "base_uri": "https://localhost:8080/",
     "height": 34
    },
    "colab_type": "code",
    "id": "iid61loPR_sq",
    "outputId": "fd14ba1e-3381-48d8-8229-c9a112c8e4f2"
   },
   "outputs": [
    {
     "data": {
      "text/plain": [
       "0.8029011543781708"
      ]
     },
     "execution_count": 48,
     "metadata": {},
     "output_type": "execute_result"
    }
   ],
   "source": [
    "r2_score(Y_test,y_pred)"
   ]
  },
  {
   "cell_type": "markdown",
   "metadata": {
    "colab_type": "text",
    "id": "mtTMRYvjrMd0"
   },
   "source": [
    "Now lets compare the actual and predicted values."
   ]
  },
  {
   "cell_type": "code",
   "execution_count": 49,
   "metadata": {
    "colab": {},
    "colab_type": "code",
    "id": "Hh2QLpfnv2lw"
   },
   "outputs": [],
   "source": [
    "x=CarDekho_Data_Proces.drop([\"Selling_Price\"],axis=1) #Independent variables\n",
    "y=CarDekho_Data_Proces[\"Selling_Price\"] #Dependent Variables"
   ]
  },
  {
   "cell_type": "code",
   "execution_count": 50,
   "metadata": {
    "colab": {},
    "colab_type": "code",
    "id": "jGaMupxmsNxM"
   },
   "outputs": [],
   "source": [
    "import statsmodels.api as sm\n",
    "from statsmodels.sandbox.regression.predstd import wls_prediction_std"
   ]
  },
  {
   "cell_type": "markdown",
   "metadata": {
    "colab_type": "text",
    "id": "gA48hwYrwngV"
   },
   "source": [
    "Here we can see that:\n",
    "\n",
    "> We are acheving the R_squared of 0.918 which is very good.\n",
    "\n",
    "> We nned to have a look on Adjusted R_sqr and P value as it will help us in tunning the model further.\n",
    "\n",
    "\n",
    "\n"
   ]
  },
  {
   "cell_type": "code",
   "execution_count": 51,
   "metadata": {
    "colab": {
     "base_uri": "https://localhost:8080/",
     "height": 604
    },
    "colab_type": "code",
    "id": "-h3pVHODsuv7",
    "outputId": "088b6a41-4766-460d-f1ec-d6f2eee2bc23"
   },
   "outputs": [
    {
     "data": {
      "text/html": [
       "<table class=\"simpletable\">\n",
       "<caption>OLS Regression Results</caption>\n",
       "<tr>\n",
       "  <th>Dep. Variable:</th>      <td>Selling_Price</td>  <th>  R-squared (uncentered):</th>      <td>   0.918</td> \n",
       "</tr>\n",
       "<tr>\n",
       "  <th>Model:</th>                   <td>OLS</td>       <th>  Adj. R-squared (uncentered):</th> <td>   0.915</td> \n",
       "</tr>\n",
       "<tr>\n",
       "  <th>Method:</th>             <td>Least Squares</td>  <th>  F-statistic:       </th>          <td>   408.6</td> \n",
       "</tr>\n",
       "<tr>\n",
       "  <th>Date:</th>             <td>Sat, 01 Oct 2022</td> <th>  Prob (F-statistic):</th>          <td>5.08e-154</td>\n",
       "</tr>\n",
       "<tr>\n",
       "  <th>Time:</th>                 <td>15:34:05</td>     <th>  Log-Likelihood:    </th>          <td> -632.15</td> \n",
       "</tr>\n",
       "<tr>\n",
       "  <th>No. Observations:</th>      <td>   301</td>      <th>  AIC:               </th>          <td>   1280.</td> \n",
       "</tr>\n",
       "<tr>\n",
       "  <th>Df Residuals:</th>          <td>   293</td>      <th>  BIC:               </th>          <td>   1310.</td> \n",
       "</tr>\n",
       "<tr>\n",
       "  <th>Df Model:</th>              <td>     8</td>      <th>                     </th>              <td> </td>    \n",
       "</tr>\n",
       "<tr>\n",
       "  <th>Covariance Type:</th>      <td>nonrobust</td>    <th>                     </th>              <td> </td>    \n",
       "</tr>\n",
       "</table>\n",
       "<table class=\"simpletable\">\n",
       "<tr>\n",
       "         <td></td>           <th>coef</th>     <th>std err</th>      <th>t</th>      <th>P>|t|</th>  <th>[0.025</th>    <th>0.975]</th>  \n",
       "</tr>\n",
       "<tr>\n",
       "  <th>Fuel_Type</th>      <td>   -1.9683</td> <td>    0.309</td> <td>   -6.360</td> <td> 0.000</td> <td>   -2.577</td> <td>   -1.359</td>\n",
       "</tr>\n",
       "<tr>\n",
       "  <th>Seller_Type</th>    <td>   -1.5381</td> <td>    0.300</td> <td>   -5.127</td> <td> 0.000</td> <td>   -2.129</td> <td>   -0.948</td>\n",
       "</tr>\n",
       "<tr>\n",
       "  <th>Transmission</th>   <td>   -1.5221</td> <td>    0.376</td> <td>   -4.047</td> <td> 0.000</td> <td>   -2.262</td> <td>   -0.782</td>\n",
       "</tr>\n",
       "<tr>\n",
       "  <th>Owner</th>          <td>   -1.0184</td> <td>    0.553</td> <td>   -1.841</td> <td> 0.067</td> <td>   -2.107</td> <td>    0.070</td>\n",
       "</tr>\n",
       "<tr>\n",
       "  <th>Year</th>           <td>    0.0066</td> <td>    0.001</td> <td>    7.368</td> <td> 0.000</td> <td>    0.005</td> <td>    0.008</td>\n",
       "</tr>\n",
       "<tr>\n",
       "  <th>Present_Price</th>  <td>    0.4414</td> <td>    0.018</td> <td>   24.696</td> <td> 0.000</td> <td>    0.406</td> <td>    0.477</td>\n",
       "</tr>\n",
       "<tr>\n",
       "  <th>Kms_Driven</th>     <td>-1.229e-05</td> <td> 4.34e-06</td> <td>   -2.831</td> <td> 0.005</td> <td>-2.08e-05</td> <td>-3.74e-06</td>\n",
       "</tr>\n",
       "<tr>\n",
       "  <th>log_Kms_Driven</th> <td>   -1.3906</td> <td>    0.399</td> <td>   -3.482</td> <td> 0.001</td> <td>   -2.177</td> <td>   -0.605</td>\n",
       "</tr>\n",
       "</table>\n",
       "<table class=\"simpletable\">\n",
       "<tr>\n",
       "  <th>Omnibus:</th>       <td>54.140</td> <th>  Durbin-Watson:     </th> <td>   1.797</td>\n",
       "</tr>\n",
       "<tr>\n",
       "  <th>Prob(Omnibus):</th> <td> 0.000</td> <th>  Jarque-Bera (JB):  </th> <td> 364.327</td>\n",
       "</tr>\n",
       "<tr>\n",
       "  <th>Skew:</th>          <td> 0.489</td> <th>  Prob(JB):          </th> <td>7.72e-80</td>\n",
       "</tr>\n",
       "<tr>\n",
       "  <th>Kurtosis:</th>      <td> 8.300</td> <th>  Cond. No.          </th> <td>2.59e+05</td>\n",
       "</tr>\n",
       "</table><br/><br/>Notes:<br/>[1] R² is computed without centering (uncentered) since the model does not contain a constant.<br/>[2] Standard Errors assume that the covariance matrix of the errors is correctly specified.<br/>[3] The condition number is large, 2.59e+05. This might indicate that there are<br/>strong multicollinearity or other numerical problems."
      ],
      "text/plain": [
       "<class 'statsmodels.iolib.summary.Summary'>\n",
       "\"\"\"\n",
       "                                 OLS Regression Results                                \n",
       "=======================================================================================\n",
       "Dep. Variable:          Selling_Price   R-squared (uncentered):                   0.918\n",
       "Model:                            OLS   Adj. R-squared (uncentered):              0.915\n",
       "Method:                 Least Squares   F-statistic:                              408.6\n",
       "Date:                Sat, 01 Oct 2022   Prob (F-statistic):                   5.08e-154\n",
       "Time:                        15:34:05   Log-Likelihood:                         -632.15\n",
       "No. Observations:                 301   AIC:                                      1280.\n",
       "Df Residuals:                     293   BIC:                                      1310.\n",
       "Df Model:                           8                                                  \n",
       "Covariance Type:            nonrobust                                                  \n",
       "==================================================================================\n",
       "                     coef    std err          t      P>|t|      [0.025      0.975]\n",
       "----------------------------------------------------------------------------------\n",
       "Fuel_Type         -1.9683      0.309     -6.360      0.000      -2.577      -1.359\n",
       "Seller_Type       -1.5381      0.300     -5.127      0.000      -2.129      -0.948\n",
       "Transmission      -1.5221      0.376     -4.047      0.000      -2.262      -0.782\n",
       "Owner             -1.0184      0.553     -1.841      0.067      -2.107       0.070\n",
       "Year               0.0066      0.001      7.368      0.000       0.005       0.008\n",
       "Present_Price      0.4414      0.018     24.696      0.000       0.406       0.477\n",
       "Kms_Driven     -1.229e-05   4.34e-06     -2.831      0.005   -2.08e-05   -3.74e-06\n",
       "log_Kms_Driven    -1.3906      0.399     -3.482      0.001      -2.177      -0.605\n",
       "==============================================================================\n",
       "Omnibus:                       54.140   Durbin-Watson:                   1.797\n",
       "Prob(Omnibus):                  0.000   Jarque-Bera (JB):              364.327\n",
       "Skew:                           0.489   Prob(JB):                     7.72e-80\n",
       "Kurtosis:                       8.300   Cond. No.                     2.59e+05\n",
       "==============================================================================\n",
       "\n",
       "Notes:\n",
       "[1] R² is computed without centering (uncentered) since the model does not contain a constant.\n",
       "[2] Standard Errors assume that the covariance matrix of the errors is correctly specified.\n",
       "[3] The condition number is large, 2.59e+05. This might indicate that there are\n",
       "strong multicollinearity or other numerical problems.\n",
       "\"\"\""
      ]
     },
     "execution_count": 51,
     "metadata": {},
     "output_type": "execute_result"
    }
   ],
   "source": [
    "model=sm.OLS(endog=y,exog=x).fit()\n",
    "model.summary()"
   ]
  },
  {
   "cell_type": "markdown",
   "metadata": {
    "colab_type": "text",
    "id": "5bf04Mj9xIvF"
   },
   "source": [
    "\n",
    "Now we will further tune the model:\n",
    "\n",
    "> Let us remove the **Owner** variable as it is more then our p Value i.e.(0.05) acting like insignificant.\n",
    "\n",
    "> We also checked our Adj R_sqr should not drop.\n",
    "\n",
    "\n",
    "\n",
    "\n"
   ]
  },
  {
   "cell_type": "code",
   "execution_count": 52,
   "metadata": {
    "colab": {},
    "colab_type": "code",
    "id": "RTLkqRvRY08a"
   },
   "outputs": [],
   "source": [
    "x=CarDekho_Data_Proces.drop([\"Selling_Price\",\"Owner\"],axis=1) #Independent variables\n",
    "y=CarDekho_Data_Proces[\"Selling_Price\"] #Dependent Variables"
   ]
  },
  {
   "cell_type": "markdown",
   "metadata": {
    "colab_type": "text",
    "id": "rM9Mp-J3X3Rw"
   },
   "source": [
    "Finally we have the best fit model with all significant Indipendent values and a good score of Adj R2 91.5 %."
   ]
  },
  {
   "cell_type": "code",
   "execution_count": 53,
   "metadata": {
    "colab": {
     "base_uri": "https://localhost:8080/",
     "height": 583
    },
    "colab_type": "code",
    "id": "_j-GuBBReBL5",
    "outputId": "1b6072be-08bd-417c-f6e4-0b6974ebbfba"
   },
   "outputs": [
    {
     "data": {
      "text/html": [
       "<table class=\"simpletable\">\n",
       "<caption>OLS Regression Results</caption>\n",
       "<tr>\n",
       "  <th>Dep. Variable:</th>      <td>Selling_Price</td>  <th>  R-squared (uncentered):</th>      <td>   0.917</td> \n",
       "</tr>\n",
       "<tr>\n",
       "  <th>Model:</th>                   <td>OLS</td>       <th>  Adj. R-squared (uncentered):</th> <td>   0.915</td> \n",
       "</tr>\n",
       "<tr>\n",
       "  <th>Method:</th>             <td>Least Squares</td>  <th>  F-statistic:       </th>          <td>   462.7</td> \n",
       "</tr>\n",
       "<tr>\n",
       "  <th>Date:</th>             <td>Sat, 01 Oct 2022</td> <th>  Prob (F-statistic):</th>          <td>1.22e-154</td>\n",
       "</tr>\n",
       "<tr>\n",
       "  <th>Time:</th>                 <td>15:34:05</td>     <th>  Log-Likelihood:    </th>          <td> -633.88</td> \n",
       "</tr>\n",
       "<tr>\n",
       "  <th>No. Observations:</th>      <td>   301</td>      <th>  AIC:               </th>          <td>   1282.</td> \n",
       "</tr>\n",
       "<tr>\n",
       "  <th>Df Residuals:</th>          <td>   294</td>      <th>  BIC:               </th>          <td>   1308.</td> \n",
       "</tr>\n",
       "<tr>\n",
       "  <th>Df Model:</th>              <td>     7</td>      <th>                     </th>              <td> </td>    \n",
       "</tr>\n",
       "<tr>\n",
       "  <th>Covariance Type:</th>      <td>nonrobust</td>    <th>                     </th>              <td> </td>    \n",
       "</tr>\n",
       "</table>\n",
       "<table class=\"simpletable\">\n",
       "<tr>\n",
       "         <td></td>           <th>coef</th>     <th>std err</th>      <th>t</th>      <th>P>|t|</th>  <th>[0.025</th>    <th>0.975]</th>  \n",
       "</tr>\n",
       "<tr>\n",
       "  <th>Fuel_Type</th>      <td>   -1.9941</td> <td>    0.310</td> <td>   -6.424</td> <td> 0.000</td> <td>   -2.605</td> <td>   -1.383</td>\n",
       "</tr>\n",
       "<tr>\n",
       "  <th>Seller_Type</th>    <td>   -1.6152</td> <td>    0.298</td> <td>   -5.415</td> <td> 0.000</td> <td>   -2.202</td> <td>   -1.028</td>\n",
       "</tr>\n",
       "<tr>\n",
       "  <th>Transmission</th>   <td>   -1.5129</td> <td>    0.378</td> <td>   -4.007</td> <td> 0.000</td> <td>   -2.256</td> <td>   -0.770</td>\n",
       "</tr>\n",
       "<tr>\n",
       "  <th>Year</th>           <td>    0.0067</td> <td>    0.001</td> <td>    7.527</td> <td> 0.000</td> <td>    0.005</td> <td>    0.009</td>\n",
       "</tr>\n",
       "<tr>\n",
       "  <th>Present_Price</th>  <td>    0.4401</td> <td>    0.018</td> <td>   24.544</td> <td> 0.000</td> <td>    0.405</td> <td>    0.475</td>\n",
       "</tr>\n",
       "<tr>\n",
       "  <th>Kms_Driven</th>     <td>-1.223e-05</td> <td> 4.36e-06</td> <td>   -2.808</td> <td> 0.005</td> <td>-2.08e-05</td> <td>-3.66e-06</td>\n",
       "</tr>\n",
       "<tr>\n",
       "  <th>log_Kms_Driven</th> <td>   -1.4491</td> <td>    0.400</td> <td>   -3.625</td> <td> 0.000</td> <td>   -2.236</td> <td>   -0.662</td>\n",
       "</tr>\n",
       "</table>\n",
       "<table class=\"simpletable\">\n",
       "<tr>\n",
       "  <th>Omnibus:</th>       <td>52.910</td> <th>  Durbin-Watson:     </th> <td>   1.768</td>\n",
       "</tr>\n",
       "<tr>\n",
       "  <th>Prob(Omnibus):</th> <td> 0.000</td> <th>  Jarque-Bera (JB):  </th> <td> 372.060</td>\n",
       "</tr>\n",
       "<tr>\n",
       "  <th>Skew:</th>          <td> 0.449</td> <th>  Prob(JB):          </th> <td>1.61e-81</td>\n",
       "</tr>\n",
       "<tr>\n",
       "  <th>Kurtosis:</th>      <td> 8.372</td> <th>  Cond. No.          </th> <td>1.99e+05</td>\n",
       "</tr>\n",
       "</table><br/><br/>Notes:<br/>[1] R² is computed without centering (uncentered) since the model does not contain a constant.<br/>[2] Standard Errors assume that the covariance matrix of the errors is correctly specified.<br/>[3] The condition number is large, 1.99e+05. This might indicate that there are<br/>strong multicollinearity or other numerical problems."
      ],
      "text/plain": [
       "<class 'statsmodels.iolib.summary.Summary'>\n",
       "\"\"\"\n",
       "                                 OLS Regression Results                                \n",
       "=======================================================================================\n",
       "Dep. Variable:          Selling_Price   R-squared (uncentered):                   0.917\n",
       "Model:                            OLS   Adj. R-squared (uncentered):              0.915\n",
       "Method:                 Least Squares   F-statistic:                              462.7\n",
       "Date:                Sat, 01 Oct 2022   Prob (F-statistic):                   1.22e-154\n",
       "Time:                        15:34:05   Log-Likelihood:                         -633.88\n",
       "No. Observations:                 301   AIC:                                      1282.\n",
       "Df Residuals:                     294   BIC:                                      1308.\n",
       "Df Model:                           7                                                  \n",
       "Covariance Type:            nonrobust                                                  \n",
       "==================================================================================\n",
       "                     coef    std err          t      P>|t|      [0.025      0.975]\n",
       "----------------------------------------------------------------------------------\n",
       "Fuel_Type         -1.9941      0.310     -6.424      0.000      -2.605      -1.383\n",
       "Seller_Type       -1.6152      0.298     -5.415      0.000      -2.202      -1.028\n",
       "Transmission      -1.5129      0.378     -4.007      0.000      -2.256      -0.770\n",
       "Year               0.0067      0.001      7.527      0.000       0.005       0.009\n",
       "Present_Price      0.4401      0.018     24.544      0.000       0.405       0.475\n",
       "Kms_Driven     -1.223e-05   4.36e-06     -2.808      0.005   -2.08e-05   -3.66e-06\n",
       "log_Kms_Driven    -1.4491      0.400     -3.625      0.000      -2.236      -0.662\n",
       "==============================================================================\n",
       "Omnibus:                       52.910   Durbin-Watson:                   1.768\n",
       "Prob(Omnibus):                  0.000   Jarque-Bera (JB):              372.060\n",
       "Skew:                           0.449   Prob(JB):                     1.61e-81\n",
       "Kurtosis:                       8.372   Cond. No.                     1.99e+05\n",
       "==============================================================================\n",
       "\n",
       "Notes:\n",
       "[1] R² is computed without centering (uncentered) since the model does not contain a constant.\n",
       "[2] Standard Errors assume that the covariance matrix of the errors is correctly specified.\n",
       "[3] The condition number is large, 1.99e+05. This might indicate that there are\n",
       "strong multicollinearity or other numerical problems.\n",
       "\"\"\""
      ]
     },
     "execution_count": 53,
     "metadata": {},
     "output_type": "execute_result"
    }
   ],
   "source": [
    "model=sm.OLS(endog=y,exog=x).fit()\n",
    "model.summary()"
   ]
  }
 ],
 "metadata": {
  "colab": {
   "authorship_tag": "ABX9TyNMfEl9BsqUBEG3b/4fuefM",
   "collapsed_sections": [],
   "include_colab_link": true,
   "name": "CarDekho_Project_Final _Sp_.ipynb",
   "provenance": []
  },
  "kernelspec": {
   "display_name": "Python 3 (ipykernel)",
   "language": "python",
   "name": "python3"
  },
  "language_info": {
   "codemirror_mode": {
    "name": "ipython",
    "version": 3
   },
   "file_extension": ".py",
   "mimetype": "text/x-python",
   "name": "python",
   "nbconvert_exporter": "python",
   "pygments_lexer": "ipython3",
   "version": "3.9.12"
  }
 },
 "nbformat": 4,
 "nbformat_minor": 1
}
